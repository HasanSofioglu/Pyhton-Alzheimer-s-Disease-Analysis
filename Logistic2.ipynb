{
 "cells": [
  {
   "cell_type": "code",
   "execution_count": 7,
   "id": "a7f939ae",
   "metadata": {},
   "outputs": [],
   "source": [
    "import pandas as pd"
   ]
  },
  {
   "cell_type": "code",
   "execution_count": 8,
   "id": "c64a09a6",
   "metadata": {},
   "outputs": [],
   "source": [
    "veri=pd.read_csv(\"desktop/alzheimer.csv\") "
   ]
  },
  {
   "cell_type": "code",
   "execution_count": 9,
   "id": "acf90805",
   "metadata": {},
   "outputs": [
    {
     "data": {
      "text/html": [
       "<div>\n",
       "<style scoped>\n",
       "    .dataframe tbody tr th:only-of-type {\n",
       "        vertical-align: middle;\n",
       "    }\n",
       "\n",
       "    .dataframe tbody tr th {\n",
       "        vertical-align: top;\n",
       "    }\n",
       "\n",
       "    .dataframe thead th {\n",
       "        text-align: right;\n",
       "    }\n",
       "</style>\n",
       "<table border=\"1\" class=\"dataframe\">\n",
       "  <thead>\n",
       "    <tr style=\"text-align: right;\">\n",
       "      <th></th>\n",
       "      <th>Group</th>\n",
       "      <th>M/F</th>\n",
       "      <th>Age</th>\n",
       "      <th>EDUC</th>\n",
       "      <th>SES</th>\n",
       "      <th>MMSE</th>\n",
       "      <th>CDR</th>\n",
       "      <th>eTIV</th>\n",
       "      <th>nWBV</th>\n",
       "      <th>ASF</th>\n",
       "    </tr>\n",
       "  </thead>\n",
       "  <tbody>\n",
       "    <tr>\n",
       "      <th>0</th>\n",
       "      <td>Nondemented</td>\n",
       "      <td>M</td>\n",
       "      <td>87</td>\n",
       "      <td>14</td>\n",
       "      <td>2.0</td>\n",
       "      <td>27.0</td>\n",
       "      <td>0.0</td>\n",
       "      <td>1987</td>\n",
       "      <td>0.696</td>\n",
       "      <td>0.883</td>\n",
       "    </tr>\n",
       "    <tr>\n",
       "      <th>1</th>\n",
       "      <td>Nondemented</td>\n",
       "      <td>M</td>\n",
       "      <td>88</td>\n",
       "      <td>14</td>\n",
       "      <td>2.0</td>\n",
       "      <td>30.0</td>\n",
       "      <td>0.0</td>\n",
       "      <td>2004</td>\n",
       "      <td>0.681</td>\n",
       "      <td>0.876</td>\n",
       "    </tr>\n",
       "    <tr>\n",
       "      <th>2</th>\n",
       "      <td>Demented</td>\n",
       "      <td>M</td>\n",
       "      <td>75</td>\n",
       "      <td>12</td>\n",
       "      <td>NaN</td>\n",
       "      <td>23.0</td>\n",
       "      <td>0.5</td>\n",
       "      <td>1678</td>\n",
       "      <td>0.736</td>\n",
       "      <td>1.046</td>\n",
       "    </tr>\n",
       "    <tr>\n",
       "      <th>3</th>\n",
       "      <td>Demented</td>\n",
       "      <td>M</td>\n",
       "      <td>76</td>\n",
       "      <td>12</td>\n",
       "      <td>NaN</td>\n",
       "      <td>28.0</td>\n",
       "      <td>0.5</td>\n",
       "      <td>1738</td>\n",
       "      <td>0.713</td>\n",
       "      <td>1.010</td>\n",
       "    </tr>\n",
       "    <tr>\n",
       "      <th>4</th>\n",
       "      <td>Demented</td>\n",
       "      <td>M</td>\n",
       "      <td>80</td>\n",
       "      <td>12</td>\n",
       "      <td>NaN</td>\n",
       "      <td>22.0</td>\n",
       "      <td>0.5</td>\n",
       "      <td>1698</td>\n",
       "      <td>0.701</td>\n",
       "      <td>1.034</td>\n",
       "    </tr>\n",
       "  </tbody>\n",
       "</table>\n",
       "</div>"
      ],
      "text/plain": [
       "         Group M/F  Age  EDUC  SES  MMSE  CDR  eTIV   nWBV    ASF\n",
       "0  Nondemented   M   87    14  2.0  27.0  0.0  1987  0.696  0.883\n",
       "1  Nondemented   M   88    14  2.0  30.0  0.0  2004  0.681  0.876\n",
       "2     Demented   M   75    12  NaN  23.0  0.5  1678  0.736  1.046\n",
       "3     Demented   M   76    12  NaN  28.0  0.5  1738  0.713  1.010\n",
       "4     Demented   M   80    12  NaN  22.0  0.5  1698  0.701  1.034"
      ]
     },
     "execution_count": 9,
     "metadata": {},
     "output_type": "execute_result"
    }
   ],
   "source": [
    "veri.head() "
   ]
  },
  {
   "cell_type": "code",
   "execution_count": 10,
   "id": "c65da84c",
   "metadata": {},
   "outputs": [],
   "source": [
    "#NORMALİZASYON İŞLEMLERİ"
   ]
  },
  {
   "cell_type": "code",
   "execution_count": 11,
   "id": "13aabd2b",
   "metadata": {},
   "outputs": [
    {
     "data": {
      "text/plain": [
       "(373, 10)"
      ]
     },
     "execution_count": 11,
     "metadata": {},
     "output_type": "execute_result"
    }
   ],
   "source": [
    "veri.shape  #veri setinde 373 satır örneklem, 10 tane öznitelik mevcuttur"
   ]
  },
  {
   "cell_type": "code",
   "execution_count": 12,
   "id": "bb3a1d27",
   "metadata": {},
   "outputs": [
    {
     "data": {
      "text/plain": [
       "Group     object\n",
       "M/F       object\n",
       "Age        int64\n",
       "EDUC       int64\n",
       "SES      float64\n",
       "MMSE     float64\n",
       "CDR      float64\n",
       "eTIV       int64\n",
       "nWBV     float64\n",
       "ASF      float64\n",
       "dtype: object"
      ]
     },
     "execution_count": 12,
     "metadata": {},
     "output_type": "execute_result"
    }
   ],
   "source": [
    "veri.dtypes"
   ]
  },
  {
   "cell_type": "code",
   "execution_count": 13,
   "id": "84b9be73",
   "metadata": {},
   "outputs": [],
   "source": [
    "import seaborn as sns"
   ]
  },
  {
   "cell_type": "code",
   "execution_count": 14,
   "id": "6a3d6e26",
   "metadata": {},
   "outputs": [
    {
     "data": {
      "text/plain": [
       "<AxesSubplot:xlabel='Group', ylabel='count'>"
      ]
     },
     "execution_count": 14,
     "metadata": {},
     "output_type": "execute_result"
    },
    {
     "data": {
      "image/png": "[encoded data removed]",
      "text/plain": [
       "<Figure size 432x288 with 1 Axes>"
      ]
     },
     "metadata": {
      "needs_background": "light"
     },
     "output_type": "display_data"
    }
   ],
   "source": [
    "sns.countplot(x=\"Group\",data=veri)"
   ]
  },
  {
   "cell_type": "code",
   "execution_count": 15,
   "id": "bcc4c594",
   "metadata": {},
   "outputs": [
    {
     "data": {
      "text/plain": [
       "<AxesSubplot:xlabel='Group', ylabel='count'>"
      ]
     },
     "execution_count": 15,
     "metadata": {},
     "output_type": "execute_result"
    },
    {
     "data": {
      "image/png": "[encoded data removed]",
      "text/plain": [
       "<Figure size 432x288 with 1 Axes>"
      ]
     },
     "metadata": {
      "needs_background": "light"
     },
     "output_type": "display_data"
    }
   ],
   "source": [
    "sns.countplot(x=\"Group\", hue=\"M/F\",data=veri)"
   ]
  },
  {
   "cell_type": "code",
   "execution_count": 16,
   "id": "5ceaa7ab",
   "metadata": {},
   "outputs": [
    {
     "data": {
      "text/plain": [
       "<AxesSubplot:ylabel='Frequency'>"
      ]
     },
     "execution_count": 16,
     "metadata": {},
     "output_type": "execute_result"
    },
    {
     "data": {
      "image/png": "[encoded data removed]",
      "text/plain": [
       "<Figure size 432x288 with 1 Axes>"
      ]
     },
     "metadata": {
      "needs_background": "light"
     },
     "output_type": "display_data"
    }
   ],
   "source": [
    "veri[\"Age\"].plot.hist()"
   ]
  },
  {
   "cell_type": "code",
   "execution_count": 17,
   "id": "51d78fb8",
   "metadata": {},
   "outputs": [
    {
     "data": {
      "text/plain": [
       "Group     0\n",
       "M/F       0\n",
       "Age       0\n",
       "EDUC      0\n",
       "SES      19\n",
       "MMSE      2\n",
       "CDR       0\n",
       "eTIV      0\n",
       "nWBV      0\n",
       "ASF       0\n",
       "dtype: int64"
      ]
     },
     "execution_count": 17,
     "metadata": {},
     "output_type": "execute_result"
    }
   ],
   "source": [
    "veri.isnull().sum()"
   ]
  },
  {
   "cell_type": "code",
   "execution_count": 18,
   "id": "a2901242",
   "metadata": {},
   "outputs": [
    {
     "data": {
      "text/plain": [
       "<AxesSubplot:>"
      ]
     },
     "execution_count": 18,
     "metadata": {},
     "output_type": "execute_result"
    },
    {
     "data": {
      "image/png": "[encoded data removed]",
      "text/plain": [
       "<Figure size 432x288 with 2 Axes>"
      ]
     },
     "metadata": {
      "needs_background": "light"
     },
     "output_type": "display_data"
    }
   ],
   "source": [
    "sns.heatmap(veri.isnull(),yticklabels=False,cmap=\"viridis\")  #eksik verilerin görselleştirilmesi"
   ]
  },
  {
   "cell_type": "code",
   "execution_count": 19,
   "id": "62a84c7d",
   "metadata": {},
   "outputs": [],
   "source": [
    "veri.drop([\"SES\",\"MMSE\"],axis=1,inplace=True)  #eksik veriler veri setinden kaldırılır"
   ]
  },
  {
   "cell_type": "code",
   "execution_count": 20,
   "id": "9dce9c27",
   "metadata": {},
   "outputs": [
    {
     "data": {
      "text/html": [
       "<div>\n",
       "<style scoped>\n",
       "    .dataframe tbody tr th:only-of-type {\n",
       "        vertical-align: middle;\n",
       "    }\n",
       "\n",
       "    .dataframe tbody tr th {\n",
       "        vertical-align: top;\n",
       "    }\n",
       "\n",
       "    .dataframe thead th {\n",
       "        text-align: right;\n",
       "    }\n",
       "</style>\n",
       "<table border=\"1\" class=\"dataframe\">\n",
       "  <thead>\n",
       "    <tr style=\"text-align: right;\">\n",
       "      <th></th>\n",
       "      <th>Group</th>\n",
       "      <th>M/F</th>\n",
       "      <th>Age</th>\n",
       "      <th>EDUC</th>\n",
       "      <th>CDR</th>\n",
       "      <th>eTIV</th>\n",
       "      <th>nWBV</th>\n",
       "      <th>ASF</th>\n",
       "    </tr>\n",
       "  </thead>\n",
       "  <tbody>\n",
       "    <tr>\n",
       "      <th>0</th>\n",
       "      <td>Nondemented</td>\n",
       "      <td>M</td>\n",
       "      <td>87</td>\n",
       "      <td>14</td>\n",
       "      <td>0.0</td>\n",
       "      <td>1987</td>\n",
       "      <td>0.696</td>\n",
       "      <td>0.883</td>\n",
       "    </tr>\n",
       "    <tr>\n",
       "      <th>1</th>\n",
       "      <td>Nondemented</td>\n",
       "      <td>M</td>\n",
       "      <td>88</td>\n",
       "      <td>14</td>\n",
       "      <td>0.0</td>\n",
       "      <td>2004</td>\n",
       "      <td>0.681</td>\n",
       "      <td>0.876</td>\n",
       "    </tr>\n",
       "    <tr>\n",
       "      <th>2</th>\n",
       "      <td>Demented</td>\n",
       "      <td>M</td>\n",
       "      <td>75</td>\n",
       "      <td>12</td>\n",
       "      <td>0.5</td>\n",
       "      <td>1678</td>\n",
       "      <td>0.736</td>\n",
       "      <td>1.046</td>\n",
       "    </tr>\n",
       "    <tr>\n",
       "      <th>3</th>\n",
       "      <td>Demented</td>\n",
       "      <td>M</td>\n",
       "      <td>76</td>\n",
       "      <td>12</td>\n",
       "      <td>0.5</td>\n",
       "      <td>1738</td>\n",
       "      <td>0.713</td>\n",
       "      <td>1.010</td>\n",
       "    </tr>\n",
       "    <tr>\n",
       "      <th>4</th>\n",
       "      <td>Demented</td>\n",
       "      <td>M</td>\n",
       "      <td>80</td>\n",
       "      <td>12</td>\n",
       "      <td>0.5</td>\n",
       "      <td>1698</td>\n",
       "      <td>0.701</td>\n",
       "      <td>1.034</td>\n",
       "    </tr>\n",
       "  </tbody>\n",
       "</table>\n",
       "</div>"
      ],
      "text/plain": [
       "         Group M/F  Age  EDUC  CDR  eTIV   nWBV    ASF\n",
       "0  Nondemented   M   87    14  0.0  1987  0.696  0.883\n",
       "1  Nondemented   M   88    14  0.0  2004  0.681  0.876\n",
       "2     Demented   M   75    12  0.5  1678  0.736  1.046\n",
       "3     Demented   M   76    12  0.5  1738  0.713  1.010\n",
       "4     Demented   M   80    12  0.5  1698  0.701  1.034"
      ]
     },
     "execution_count": 20,
     "metadata": {},
     "output_type": "execute_result"
    }
   ],
   "source": [
    "veri.head()"
   ]
  },
  {
   "cell_type": "code",
   "execution_count": 21,
   "id": "706698a6",
   "metadata": {},
   "outputs": [
    {
     "data": {
      "text/plain": [
       "<AxesSubplot:>"
      ]
     },
     "execution_count": 21,
     "metadata": {},
     "output_type": "execute_result"
    },
    {
     "data": {
      "image/png": "[encoded data removed]",
      "text/plain": [
       "<Figure size 432x288 with 2 Axes>"
      ]
     },
     "metadata": {
      "needs_background": "light"
     },
     "output_type": "display_data"
    }
   ],
   "source": [
    "sns.heatmap(veri.isnull(),yticklabels=False,cmap=\"viridis\")"
   ]
  },
  {
   "cell_type": "code",
   "execution_count": 22,
   "id": "e519c972",
   "metadata": {},
   "outputs": [
    {
     "data": {
      "text/plain": [
       "Group    0\n",
       "M/F      0\n",
       "Age      0\n",
       "EDUC     0\n",
       "CDR      0\n",
       "eTIV     0\n",
       "nWBV     0\n",
       "ASF      0\n",
       "dtype: int64"
      ]
     },
     "execution_count": 22,
     "metadata": {},
     "output_type": "execute_result"
    }
   ],
   "source": [
    "veri.isnull().sum()"
   ]
  },
  {
   "cell_type": "code",
   "execution_count": 23,
   "id": "62672ac7",
   "metadata": {},
   "outputs": [],
   "source": [
    "veri.dropna(inplace=True)"
   ]
  },
  {
   "cell_type": "code",
   "execution_count": 24,
   "id": "f899ce28",
   "metadata": {},
   "outputs": [
    {
     "data": {
      "text/plain": [
       "Group    0\n",
       "M/F      0\n",
       "Age      0\n",
       "EDUC     0\n",
       "CDR      0\n",
       "eTIV     0\n",
       "nWBV     0\n",
       "ASF      0\n",
       "dtype: int64"
      ]
     },
     "execution_count": 24,
     "metadata": {},
     "output_type": "execute_result"
    }
   ],
   "source": [
    "veri.isnull().sum()"
   ]
  },
  {
   "cell_type": "code",
   "execution_count": 25,
   "id": "154bef6c",
   "metadata": {},
   "outputs": [
    {
     "data": {
      "text/plain": [
       "Group     object\n",
       "M/F       object\n",
       "Age        int64\n",
       "EDUC       int64\n",
       "CDR      float64\n",
       "eTIV       int64\n",
       "nWBV     float64\n",
       "ASF      float64\n",
       "dtype: object"
      ]
     },
     "execution_count": 25,
     "metadata": {},
     "output_type": "execute_result"
    }
   ],
   "source": [
    "veri.dtypes"
   ]
  },
  {
   "cell_type": "code",
   "execution_count": 26,
   "id": "6c7bd9ee",
   "metadata": {},
   "outputs": [],
   "source": [
    "Group=pd.get_dummies(veri[\"Group\"],drop_first=True)  #uygun tipte olmayan veriler dummy değişkeni ile değiştirilir"
   ]
  },
  {
   "cell_type": "code",
   "execution_count": 27,
   "id": "a25bbb62",
   "metadata": {},
   "outputs": [
    {
     "data": {
      "text/html": [
       "<div>\n",
       "<style scoped>\n",
       "    .dataframe tbody tr th:only-of-type {\n",
       "        vertical-align: middle;\n",
       "    }\n",
       "\n",
       "    .dataframe tbody tr th {\n",
       "        vertical-align: top;\n",
       "    }\n",
       "\n",
       "    .dataframe thead th {\n",
       "        text-align: right;\n",
       "    }\n",
       "</style>\n",
       "<table border=\"1\" class=\"dataframe\">\n",
       "  <thead>\n",
       "    <tr style=\"text-align: right;\">\n",
       "      <th></th>\n",
       "      <th>Demented</th>\n",
       "      <th>Nondemented</th>\n",
       "    </tr>\n",
       "  </thead>\n",
       "  <tbody>\n",
       "    <tr>\n",
       "      <th>0</th>\n",
       "      <td>0</td>\n",
       "      <td>1</td>\n",
       "    </tr>\n",
       "    <tr>\n",
       "      <th>1</th>\n",
       "      <td>0</td>\n",
       "      <td>1</td>\n",
       "    </tr>\n",
       "    <tr>\n",
       "      <th>2</th>\n",
       "      <td>1</td>\n",
       "      <td>0</td>\n",
       "    </tr>\n",
       "    <tr>\n",
       "      <th>3</th>\n",
       "      <td>1</td>\n",
       "      <td>0</td>\n",
       "    </tr>\n",
       "    <tr>\n",
       "      <th>4</th>\n",
       "      <td>1</td>\n",
       "      <td>0</td>\n",
       "    </tr>\n",
       "  </tbody>\n",
       "</table>\n",
       "</div>"
      ],
      "text/plain": [
       "   Demented  Nondemented\n",
       "0         0            1\n",
       "1         0            1\n",
       "2         1            0\n",
       "3         1            0\n",
       "4         1            0"
      ]
     },
     "execution_count": 27,
     "metadata": {},
     "output_type": "execute_result"
    }
   ],
   "source": [
    "Group.head()"
   ]
  },
  {
   "cell_type": "code",
   "execution_count": 28,
   "id": "7d8c899d",
   "metadata": {},
   "outputs": [],
   "source": [
    "sex=pd.get_dummies(veri[\"M/F\"],drop_first=True)"
   ]
  },
  {
   "cell_type": "code",
   "execution_count": 29,
   "id": "44552855",
   "metadata": {},
   "outputs": [
    {
     "data": {
      "text/html": [
       "<div>\n",
       "<style scoped>\n",
       "    .dataframe tbody tr th:only-of-type {\n",
       "        vertical-align: middle;\n",
       "    }\n",
       "\n",
       "    .dataframe tbody tr th {\n",
       "        vertical-align: top;\n",
       "    }\n",
       "\n",
       "    .dataframe thead th {\n",
       "        text-align: right;\n",
       "    }\n",
       "</style>\n",
       "<table border=\"1\" class=\"dataframe\">\n",
       "  <thead>\n",
       "    <tr style=\"text-align: right;\">\n",
       "      <th></th>\n",
       "      <th>M</th>\n",
       "    </tr>\n",
       "  </thead>\n",
       "  <tbody>\n",
       "    <tr>\n",
       "      <th>0</th>\n",
       "      <td>1</td>\n",
       "    </tr>\n",
       "    <tr>\n",
       "      <th>1</th>\n",
       "      <td>1</td>\n",
       "    </tr>\n",
       "    <tr>\n",
       "      <th>2</th>\n",
       "      <td>1</td>\n",
       "    </tr>\n",
       "    <tr>\n",
       "      <th>3</th>\n",
       "      <td>1</td>\n",
       "    </tr>\n",
       "    <tr>\n",
       "      <th>4</th>\n",
       "      <td>1</td>\n",
       "    </tr>\n",
       "  </tbody>\n",
       "</table>\n",
       "</div>"
      ],
      "text/plain": [
       "   M\n",
       "0  1\n",
       "1  1\n",
       "2  1\n",
       "3  1\n",
       "4  1"
      ]
     },
     "execution_count": 29,
     "metadata": {},
     "output_type": "execute_result"
    }
   ],
   "source": [
    "sex.head()"
   ]
  },
  {
   "cell_type": "code",
   "execution_count": 30,
   "id": "c43a97f6",
   "metadata": {},
   "outputs": [],
   "source": [
    "Group=pd.get_dummies(veri[\"Group\"],drop_first=True)"
   ]
  },
  {
   "cell_type": "code",
   "execution_count": 31,
   "id": "1aaafc8c",
   "metadata": {},
   "outputs": [],
   "source": [
    "sex=pd.get_dummies(veri[\"M/F\"],drop_first=True)"
   ]
  },
  {
   "cell_type": "code",
   "execution_count": 32,
   "id": "f1e87d17",
   "metadata": {},
   "outputs": [],
   "source": [
    "veri.drop([\"Group\",\"M/F\"],axis=1,inplace=True)"
   ]
  },
  {
   "cell_type": "code",
   "execution_count": 33,
   "id": "96c7a5e0",
   "metadata": {},
   "outputs": [],
   "source": [
    "veri=pd.concat([veri,Group,sex],axis=1)"
   ]
  },
  {
   "cell_type": "code",
   "execution_count": 34,
   "id": "ef29f8b2",
   "metadata": {},
   "outputs": [
    {
     "data": {
      "text/plain": [
       "Age              int64\n",
       "EDUC             int64\n",
       "CDR            float64\n",
       "eTIV             int64\n",
       "nWBV           float64\n",
       "ASF            float64\n",
       "Demented         uint8\n",
       "Nondemented      uint8\n",
       "M                uint8\n",
       "dtype: object"
      ]
     },
     "execution_count": 34,
     "metadata": {},
     "output_type": "execute_result"
    }
   ],
   "source": [
    "veri.dtypes"
   ]
  },
  {
   "cell_type": "code",
   "execution_count": 35,
   "id": "6c5bb36a",
   "metadata": {},
   "outputs": [
    {
     "data": {
      "text/html": [
       "<div>\n",
       "<style scoped>\n",
       "    .dataframe tbody tr th:only-of-type {\n",
       "        vertical-align: middle;\n",
       "    }\n",
       "\n",
       "    .dataframe tbody tr th {\n",
       "        vertical-align: top;\n",
       "    }\n",
       "\n",
       "    .dataframe thead th {\n",
       "        text-align: right;\n",
       "    }\n",
       "</style>\n",
       "<table border=\"1\" class=\"dataframe\">\n",
       "  <thead>\n",
       "    <tr style=\"text-align: right;\">\n",
       "      <th></th>\n",
       "      <th>Age</th>\n",
       "      <th>EDUC</th>\n",
       "      <th>CDR</th>\n",
       "      <th>eTIV</th>\n",
       "      <th>nWBV</th>\n",
       "      <th>ASF</th>\n",
       "      <th>Demented</th>\n",
       "      <th>Nondemented</th>\n",
       "      <th>M</th>\n",
       "    </tr>\n",
       "  </thead>\n",
       "  <tbody>\n",
       "    <tr>\n",
       "      <th>0</th>\n",
       "      <td>87</td>\n",
       "      <td>14</td>\n",
       "      <td>0.0</td>\n",
       "      <td>1987</td>\n",
       "      <td>0.696</td>\n",
       "      <td>0.883</td>\n",
       "      <td>0</td>\n",
       "      <td>1</td>\n",
       "      <td>1</td>\n",
       "    </tr>\n",
       "    <tr>\n",
       "      <th>1</th>\n",
       "      <td>88</td>\n",
       "      <td>14</td>\n",
       "      <td>0.0</td>\n",
       "      <td>2004</td>\n",
       "      <td>0.681</td>\n",
       "      <td>0.876</td>\n",
       "      <td>0</td>\n",
       "      <td>1</td>\n",
       "      <td>1</td>\n",
       "    </tr>\n",
       "    <tr>\n",
       "      <th>2</th>\n",
       "      <td>75</td>\n",
       "      <td>12</td>\n",
       "      <td>0.5</td>\n",
       "      <td>1678</td>\n",
       "      <td>0.736</td>\n",
       "      <td>1.046</td>\n",
       "      <td>1</td>\n",
       "      <td>0</td>\n",
       "      <td>1</td>\n",
       "    </tr>\n",
       "    <tr>\n",
       "      <th>3</th>\n",
       "      <td>76</td>\n",
       "      <td>12</td>\n",
       "      <td>0.5</td>\n",
       "      <td>1738</td>\n",
       "      <td>0.713</td>\n",
       "      <td>1.010</td>\n",
       "      <td>1</td>\n",
       "      <td>0</td>\n",
       "      <td>1</td>\n",
       "    </tr>\n",
       "    <tr>\n",
       "      <th>4</th>\n",
       "      <td>80</td>\n",
       "      <td>12</td>\n",
       "      <td>0.5</td>\n",
       "      <td>1698</td>\n",
       "      <td>0.701</td>\n",
       "      <td>1.034</td>\n",
       "      <td>1</td>\n",
       "      <td>0</td>\n",
       "      <td>1</td>\n",
       "    </tr>\n",
       "    <tr>\n",
       "      <th>...</th>\n",
       "      <td>...</td>\n",
       "      <td>...</td>\n",
       "      <td>...</td>\n",
       "      <td>...</td>\n",
       "      <td>...</td>\n",
       "      <td>...</td>\n",
       "      <td>...</td>\n",
       "      <td>...</td>\n",
       "      <td>...</td>\n",
       "    </tr>\n",
       "    <tr>\n",
       "      <th>368</th>\n",
       "      <td>82</td>\n",
       "      <td>16</td>\n",
       "      <td>0.5</td>\n",
       "      <td>1693</td>\n",
       "      <td>0.694</td>\n",
       "      <td>1.037</td>\n",
       "      <td>1</td>\n",
       "      <td>0</td>\n",
       "      <td>1</td>\n",
       "    </tr>\n",
       "    <tr>\n",
       "      <th>369</th>\n",
       "      <td>86</td>\n",
       "      <td>16</td>\n",
       "      <td>0.5</td>\n",
       "      <td>1688</td>\n",
       "      <td>0.675</td>\n",
       "      <td>1.040</td>\n",
       "      <td>1</td>\n",
       "      <td>0</td>\n",
       "      <td>1</td>\n",
       "    </tr>\n",
       "    <tr>\n",
       "      <th>370</th>\n",
       "      <td>61</td>\n",
       "      <td>13</td>\n",
       "      <td>0.0</td>\n",
       "      <td>1319</td>\n",
       "      <td>0.801</td>\n",
       "      <td>1.331</td>\n",
       "      <td>0</td>\n",
       "      <td>1</td>\n",
       "      <td>0</td>\n",
       "    </tr>\n",
       "    <tr>\n",
       "      <th>371</th>\n",
       "      <td>63</td>\n",
       "      <td>13</td>\n",
       "      <td>0.0</td>\n",
       "      <td>1327</td>\n",
       "      <td>0.796</td>\n",
       "      <td>1.323</td>\n",
       "      <td>0</td>\n",
       "      <td>1</td>\n",
       "      <td>0</td>\n",
       "    </tr>\n",
       "    <tr>\n",
       "      <th>372</th>\n",
       "      <td>65</td>\n",
       "      <td>13</td>\n",
       "      <td>0.0</td>\n",
       "      <td>1333</td>\n",
       "      <td>0.801</td>\n",
       "      <td>1.317</td>\n",
       "      <td>0</td>\n",
       "      <td>1</td>\n",
       "      <td>0</td>\n",
       "    </tr>\n",
       "  </tbody>\n",
       "</table>\n",
       "<p>373 rows × 9 columns</p>\n",
       "</div>"
      ],
      "text/plain": [
       "     Age  EDUC  CDR  eTIV   nWBV    ASF  Demented  Nondemented  M\n",
       "0     87    14  0.0  1987  0.696  0.883         0            1  1\n",
       "1     88    14  0.0  2004  0.681  0.876         0            1  1\n",
       "2     75    12  0.5  1678  0.736  1.046         1            0  1\n",
       "3     76    12  0.5  1738  0.713  1.010         1            0  1\n",
       "4     80    12  0.5  1698  0.701  1.034         1            0  1\n",
       "..   ...   ...  ...   ...    ...    ...       ...          ... ..\n",
       "368   82    16  0.5  1693  0.694  1.037         1            0  1\n",
       "369   86    16  0.5  1688  0.675  1.040         1            0  1\n",
       "370   61    13  0.0  1319  0.801  1.331         0            1  0\n",
       "371   63    13  0.0  1327  0.796  1.323         0            1  0\n",
       "372   65    13  0.0  1333  0.801  1.317         0            1  0\n",
       "\n",
       "[373 rows x 9 columns]"
      ]
     },
     "execution_count": 35,
     "metadata": {},
     "output_type": "execute_result"
    }
   ],
   "source": [
    "veri   #veri ön işlemeden geçti.Veriseti işlemler için uygun hale getirildi"
   ]
  },
  {
   "cell_type": "code",
   "execution_count": 36,
   "id": "836e42e5",
   "metadata": {},
   "outputs": [],
   "source": [
    "#LOJİSTIK REGRASYON ANALİZİ"
   ]
  },
  {
   "cell_type": "code",
   "execution_count": 37,
   "id": "a3c2923d",
   "metadata": {},
   "outputs": [],
   "source": [
    "x=veri.drop(\"Demented\",axis=1)  #hedef değişken \"demented\",geri kalan bileşenler özniteliklerdir\n",
    "y=veri[\"Demented\"]     \n",
    "\n",
    "#girdi ve çıktı verileri ayarlandı"
   ]
  },
  {
   "cell_type": "code",
   "execution_count": 38,
   "id": "164b936c",
   "metadata": {},
   "outputs": [],
   "source": [
    "#Train ve test işlemleri için veri seti parçalara ayıralım\n",
    "\n",
    "from sklearn.model_selection import train_test_split"
   ]
  },
  {
   "cell_type": "code",
   "execution_count": 39,
   "id": "e4d0718d",
   "metadata": {},
   "outputs": [],
   "source": [
    "x_train,x_test,y_train,y_test=train_test_split(x,y,test_size=0.25,\n",
    "                                               random_state=100)"
   ]
  },
  {
   "cell_type": "code",
   "execution_count": 40,
   "id": "9d70f13a",
   "metadata": {},
   "outputs": [],
   "source": [
    "#tahmin etmesi için kullanıdıgımız hedef için ikili lojistik regresyon analizi kullanılır\n",
    "\n",
    "from sklearn.linear_model import LogisticRegression"
   ]
  },
  {
   "cell_type": "code",
   "execution_count": 41,
   "id": "10173ad4",
   "metadata": {},
   "outputs": [],
   "source": [
    "lg_model=LogisticRegression(max_iter=1000)"
   ]
  },
  {
   "cell_type": "code",
   "execution_count": 42,
   "id": "a5872896",
   "metadata": {},
   "outputs": [
    {
     "data": {
      "text/plain": [
       "LogisticRegression(max_iter=1000)"
      ]
     },
     "execution_count": 42,
     "metadata": {},
     "output_type": "execute_result"
    }
   ],
   "source": [
    "#eğitim verisi kullnarak modeli eğitelim\n",
    "lg_model.fit(x_train,y_train)"
   ]
  },
  {
   "cell_type": "code",
   "execution_count": 43,
   "id": "b786a5d4",
   "metadata": {},
   "outputs": [
    {
     "data": {
      "text/plain": [
       "0.9680851063829787"
      ]
     },
     "execution_count": 43,
     "metadata": {},
     "output_type": "execute_result"
    }
   ],
   "source": [
    "lg_model.score(x_test,y_test)  #buradan anlaşılıyor ki modelimiz yeni veri tahmini %96 başarı ile tahmin edecek"
   ]
  },
  {
   "cell_type": "code",
   "execution_count": 44,
   "id": "9914c5da",
   "metadata": {},
   "outputs": [
    {
     "data": {
      "text/plain": [
       "0.9390681003584229"
      ]
     },
     "execution_count": 44,
     "metadata": {},
     "output_type": "execute_result"
    }
   ],
   "source": [
    "lg_model.score(x_train,y_train) #modelin doğruluk skoru"
   ]
  },
  {
   "cell_type": "code",
   "execution_count": 45,
   "id": "5e7bd1b3",
   "metadata": {},
   "outputs": [
    {
     "data": {
      "text/plain": [
       "LogisticRegression(C=0.1, max_iter=1000)"
      ]
     },
     "execution_count": 45,
     "metadata": {},
     "output_type": "execute_result"
    }
   ],
   "source": [
    "lg_model=LogisticRegression(C=0.1,max_iter=1000)\n",
    "lg_model.fit(x_train,y_train)   "
   ]
  },
  {
   "cell_type": "code",
   "execution_count": 46,
   "id": "71372559",
   "metadata": {},
   "outputs": [
    {
     "name": "stdout",
     "output_type": "stream",
     "text": [
      "0.9680851063829787\n",
      "0.931899641577061\n"
     ]
    }
   ],
   "source": [
    "print(lg_model.score(x_test,y_test))\n",
    "print(lg_model.score(x_train,y_train))  #modelin eğitim verisi üzerindeki skoru"
   ]
  },
  {
   "cell_type": "code",
   "execution_count": 47,
   "id": "191ad7fb",
   "metadata": {},
   "outputs": [],
   "source": [
    "#MODEL DEĞERLENDİRME\n",
    "#modelin sınıflarının ne kadar doğru tahmin ettiğini bulmak için confusion kullanalım \n",
    "#test verisindeki değerleri bulalım\n",
    "\n",
    "from sklearn.metrics import confusion_matrix"
   ]
  },
  {
   "cell_type": "code",
   "execution_count": 48,
   "id": "e12996ba",
   "metadata": {},
   "outputs": [],
   "source": [
    "tahmin=lg_model.predict(x_test)"
   ]
  },
  {
   "cell_type": "code",
   "execution_count": 49,
   "id": "6ad78087",
   "metadata": {},
   "outputs": [
    {
     "data": {
      "text/plain": [
       "array([[55,  1],\n",
       "       [ 2, 36]], dtype=int64)"
      ]
     },
     "execution_count": 49,
     "metadata": {},
     "output_type": "execute_result"
    }
   ],
   "source": [
    "confusion_matrix(y_test,tahmin)"
   ]
  },
  {
   "cell_type": "code",
   "execution_count": 50,
   "id": "c21a550e",
   "metadata": {},
   "outputs": [],
   "source": [
    "# 55 tane true pozitif, 36 tane true negatif tahmin yapılmış 1 tahmin pozitif iken yanlış tahminde bulunmuş \n",
    "#2 pozitif değer de negatif bulunmuş"
   ]
  },
  {
   "cell_type": "code",
   "execution_count": 51,
   "id": "0359fce9",
   "metadata": {},
   "outputs": [
    {
     "data": {
      "text/html": [
       "<div>\n",
       "<style scoped>\n",
       "    .dataframe tbody tr th:only-of-type {\n",
       "        vertical-align: middle;\n",
       "    }\n",
       "\n",
       "    .dataframe tbody tr th {\n",
       "        vertical-align: top;\n",
       "    }\n",
       "\n",
       "    .dataframe thead th {\n",
       "        text-align: right;\n",
       "    }\n",
       "</style>\n",
       "<table border=\"1\" class=\"dataframe\">\n",
       "  <thead>\n",
       "    <tr style=\"text-align: right;\">\n",
       "      <th></th>\n",
       "      <th>Age</th>\n",
       "      <th>EDUC</th>\n",
       "      <th>CDR</th>\n",
       "      <th>eTIV</th>\n",
       "      <th>nWBV</th>\n",
       "      <th>ASF</th>\n",
       "      <th>Demented</th>\n",
       "      <th>Nondemented</th>\n",
       "      <th>M</th>\n",
       "    </tr>\n",
       "  </thead>\n",
       "  <tbody>\n",
       "    <tr>\n",
       "      <th>0</th>\n",
       "      <td>87</td>\n",
       "      <td>14</td>\n",
       "      <td>0.0</td>\n",
       "      <td>1987</td>\n",
       "      <td>0.696</td>\n",
       "      <td>0.883</td>\n",
       "      <td>0</td>\n",
       "      <td>1</td>\n",
       "      <td>1</td>\n",
       "    </tr>\n",
       "    <tr>\n",
       "      <th>1</th>\n",
       "      <td>88</td>\n",
       "      <td>14</td>\n",
       "      <td>0.0</td>\n",
       "      <td>2004</td>\n",
       "      <td>0.681</td>\n",
       "      <td>0.876</td>\n",
       "      <td>0</td>\n",
       "      <td>1</td>\n",
       "      <td>1</td>\n",
       "    </tr>\n",
       "    <tr>\n",
       "      <th>2</th>\n",
       "      <td>75</td>\n",
       "      <td>12</td>\n",
       "      <td>0.5</td>\n",
       "      <td>1678</td>\n",
       "      <td>0.736</td>\n",
       "      <td>1.046</td>\n",
       "      <td>1</td>\n",
       "      <td>0</td>\n",
       "      <td>1</td>\n",
       "    </tr>\n",
       "    <tr>\n",
       "      <th>3</th>\n",
       "      <td>76</td>\n",
       "      <td>12</td>\n",
       "      <td>0.5</td>\n",
       "      <td>1738</td>\n",
       "      <td>0.713</td>\n",
       "      <td>1.010</td>\n",
       "      <td>1</td>\n",
       "      <td>0</td>\n",
       "      <td>1</td>\n",
       "    </tr>\n",
       "    <tr>\n",
       "      <th>4</th>\n",
       "      <td>80</td>\n",
       "      <td>12</td>\n",
       "      <td>0.5</td>\n",
       "      <td>1698</td>\n",
       "      <td>0.701</td>\n",
       "      <td>1.034</td>\n",
       "      <td>1</td>\n",
       "      <td>0</td>\n",
       "      <td>1</td>\n",
       "    </tr>\n",
       "  </tbody>\n",
       "</table>\n",
       "</div>"
      ],
      "text/plain": [
       "   Age  EDUC  CDR  eTIV   nWBV    ASF  Demented  Nondemented  M\n",
       "0   87    14  0.0  1987  0.696  0.883         0            1  1\n",
       "1   88    14  0.0  2004  0.681  0.876         0            1  1\n",
       "2   75    12  0.5  1678  0.736  1.046         1            0  1\n",
       "3   76    12  0.5  1738  0.713  1.010         1            0  1\n",
       "4   80    12  0.5  1698  0.701  1.034         1            0  1"
      ]
     },
     "execution_count": 51,
     "metadata": {},
     "output_type": "execute_result"
    }
   ],
   "source": [
    "veri.head()"
   ]
  },
  {
   "cell_type": "code",
   "execution_count": 52,
   "id": "3ea74edb",
   "metadata": {},
   "outputs": [],
   "source": [
    "#eğitilmiş sistemin doğru tahmin yapıp yapmadıgının kontrolü\n",
    "import numpy as np\n",
    "yeni_veri=np.array([[80,12,0.5,1698,0.701,1.034,0,1]])"
   ]
  },
  {
   "cell_type": "code",
   "execution_count": 53,
   "id": "17196e7c",
   "metadata": {},
   "outputs": [
    {
     "data": {
      "text/plain": [
       "array([1], dtype=uint8)"
      ]
     },
     "execution_count": 53,
     "metadata": {},
     "output_type": "execute_result"
    }
   ],
   "source": [
    "lg_model.predict(yeni_veri)  #sistem 1 değeri verdi bu demek ki bu kişi demented olabilir"
   ]
  },
  {
   "cell_type": "code",
   "execution_count": 54,
   "id": "f1d79794",
   "metadata": {},
   "outputs": [
    {
     "data": {
      "text/plain": [
       "array([[-1.18534845e-02, -1.42147641e-01,  1.51854240e+00,\n",
       "         1.47436898e-03,  6.44653900e-03,  1.62621339e-01,\n",
       "        -1.68342173e+00,  4.10250486e-01]])"
      ]
     },
     "execution_count": 54,
     "metadata": {},
     "output_type": "execute_result"
    }
   ],
   "source": [
    "lg_model.coef_ #modeldeki özniteliklerin tahmin edilen katsayıların görüntülenmesi"
   ]
  },
  {
   "cell_type": "code",
   "execution_count": 55,
   "id": "7188f5ea",
   "metadata": {},
   "outputs": [],
   "source": [
    "#BAYES ALGORİTMASI (NAIVE BAYES CLASSIFICATION)"
   ]
  },
  {
   "cell_type": "code",
   "execution_count": 56,
   "id": "0d737e07",
   "metadata": {},
   "outputs": [],
   "source": [
    "import numpy as np\n",
    "import matplotlib.pyplot as plt\n",
    "import seaborn as sns; sns.set()"
   ]
  },
  {
   "cell_type": "code",
   "execution_count": 57,
   "id": "651a8f87",
   "metadata": {},
   "outputs": [],
   "source": [
    "%matplotlib inline"
   ]
  },
  {
   "cell_type": "code",
   "execution_count": 58,
   "id": "3ffe6e82",
   "metadata": {},
   "outputs": [],
   "source": [
    "from sklearn.datasets import make_blobs\n",
    "x,y=make_blobs(100,2,centers=2,cluster_std=1.5)  #girdi ve çıktı verileri x ve y değişkenlerine atanır"
   ]
  },
  {
   "cell_type": "code",
   "execution_count": 59,
   "id": "505850ba",
   "metadata": {},
   "outputs": [
    {
     "data": {
      "text/plain": [
       "<matplotlib.collections.PathCollection at 0x1364a57c730>"
      ]
     },
     "execution_count": 59,
     "metadata": {},
     "output_type": "execute_result"
    },
    {
     "data": {
      "image/png": "[encoded data removed]",
      "text/plain": [
       "<Figure size 432x288 with 1 Axes>"
      ]
     },
     "metadata": {
      "needs_background": "light"
     },
     "output_type": "display_data"
    }
   ],
   "source": [
    "plt.scatter(x[:,0],x[:,1],c=y, s=50, cmap='RdBu')  "
   ]
  },
  {
   "cell_type": "code",
   "execution_count": 60,
   "id": "917159eb",
   "metadata": {},
   "outputs": [],
   "source": [
    "from sklearn.naive_bayes import GaussianNB"
   ]
  },
  {
   "cell_type": "code",
   "execution_count": 61,
   "id": "10cb6c3b",
   "metadata": {},
   "outputs": [],
   "source": [
    "model=GaussianNB()"
   ]
  },
  {
   "cell_type": "code",
   "execution_count": 62,
   "id": "bbdfd273",
   "metadata": {},
   "outputs": [
    {
     "data": {
      "text/plain": [
       "GaussianNB()"
      ]
     },
     "execution_count": 62,
     "metadata": {},
     "output_type": "execute_result"
    }
   ],
   "source": [
    "model.fit(x,y)  #model fit edildi"
   ]
  },
  {
   "cell_type": "code",
   "execution_count": 63,
   "id": "bb063987",
   "metadata": {},
   "outputs": [],
   "source": [
    "rng= np.random.RandomState(0)\n",
    "x_yeni=[3,-3]+[-5,-5]*rng.rand(1000,2)  #rastgele veriler üretelim ve bu verilerin sınıflarını tahmin edelim"
   ]
  },
  {
   "cell_type": "code",
   "execution_count": 64,
   "id": "4cb95c35",
   "metadata": {},
   "outputs": [],
   "source": [
    "y_yeni=model.predict(x_yeni)  #yeni verileri kurdugumuz modele göre tahmin ettik"
   ]
  },
  {
   "cell_type": "code",
   "execution_count": 65,
   "id": "c3e8f146",
   "metadata": {},
   "outputs": [
    {
     "data": {
      "text/plain": [
       "(-10.49730041706948,\n",
       " 6.1037978078562025,\n",
       " -12.039482991794772,\n",
       " -0.4969175816316376)"
      ]
     },
     "execution_count": 65,
     "metadata": {},
     "output_type": "execute_result"
    },
    {
     "data": {
      "image/png": "[encoded data removed]",
      "text/plain": [
       "<Figure size 432x288 with 1 Axes>"
      ]
     },
     "metadata": {
      "needs_background": "light"
     },
     "output_type": "display_data"
    }
   ],
   "source": [
    "plt.scatter(x[:,0],x[:,1],c=y, s=50, cmap='RdBu')\n",
    "lim=plt.axis()\n",
    "plt.scatter(x_yeni[:,0],x_yeni[:,1],c=y_yeni,s=20,cmap='RdBu',alpha=0.2)\n",
    "plt.axis(lim)"
   ]
  },
  {
   "cell_type": "code",
   "execution_count": 66,
   "id": "666bc505",
   "metadata": {},
   "outputs": [],
   "source": [
    "#temel bilgiler"
   ]
  },
  {
   "cell_type": "code",
   "execution_count": 67,
   "id": "49f55160",
   "metadata": {},
   "outputs": [
    {
     "data": {
      "text/html": [
       "<div>\n",
       "<style scoped>\n",
       "    .dataframe tbody tr th:only-of-type {\n",
       "        vertical-align: middle;\n",
       "    }\n",
       "\n",
       "    .dataframe tbody tr th {\n",
       "        vertical-align: top;\n",
       "    }\n",
       "\n",
       "    .dataframe thead th {\n",
       "        text-align: right;\n",
       "    }\n",
       "</style>\n",
       "<table border=\"1\" class=\"dataframe\">\n",
       "  <thead>\n",
       "    <tr style=\"text-align: right;\">\n",
       "      <th></th>\n",
       "      <th>Age</th>\n",
       "      <th>EDUC</th>\n",
       "      <th>CDR</th>\n",
       "      <th>eTIV</th>\n",
       "      <th>nWBV</th>\n",
       "      <th>ASF</th>\n",
       "      <th>Demented</th>\n",
       "      <th>Nondemented</th>\n",
       "      <th>M</th>\n",
       "    </tr>\n",
       "  </thead>\n",
       "  <tbody>\n",
       "    <tr>\n",
       "      <th>count</th>\n",
       "      <td>373.000000</td>\n",
       "      <td>373.000000</td>\n",
       "      <td>373.000000</td>\n",
       "      <td>373.000000</td>\n",
       "      <td>373.000000</td>\n",
       "      <td>373.000000</td>\n",
       "      <td>373.000000</td>\n",
       "      <td>373.000000</td>\n",
       "      <td>373.000000</td>\n",
       "    </tr>\n",
       "    <tr>\n",
       "      <th>mean</th>\n",
       "      <td>77.013405</td>\n",
       "      <td>14.597855</td>\n",
       "      <td>0.290885</td>\n",
       "      <td>1488.128686</td>\n",
       "      <td>0.729568</td>\n",
       "      <td>1.195461</td>\n",
       "      <td>0.391421</td>\n",
       "      <td>0.509383</td>\n",
       "      <td>0.428954</td>\n",
       "    </tr>\n",
       "    <tr>\n",
       "      <th>std</th>\n",
       "      <td>7.640957</td>\n",
       "      <td>2.876339</td>\n",
       "      <td>0.374557</td>\n",
       "      <td>176.139286</td>\n",
       "      <td>0.037135</td>\n",
       "      <td>0.138092</td>\n",
       "      <td>0.488724</td>\n",
       "      <td>0.500583</td>\n",
       "      <td>0.495592</td>\n",
       "    </tr>\n",
       "    <tr>\n",
       "      <th>min</th>\n",
       "      <td>60.000000</td>\n",
       "      <td>6.000000</td>\n",
       "      <td>0.000000</td>\n",
       "      <td>1106.000000</td>\n",
       "      <td>0.644000</td>\n",
       "      <td>0.876000</td>\n",
       "      <td>0.000000</td>\n",
       "      <td>0.000000</td>\n",
       "      <td>0.000000</td>\n",
       "    </tr>\n",
       "    <tr>\n",
       "      <th>25%</th>\n",
       "      <td>71.000000</td>\n",
       "      <td>12.000000</td>\n",
       "      <td>0.000000</td>\n",
       "      <td>1357.000000</td>\n",
       "      <td>0.700000</td>\n",
       "      <td>1.099000</td>\n",
       "      <td>0.000000</td>\n",
       "      <td>0.000000</td>\n",
       "      <td>0.000000</td>\n",
       "    </tr>\n",
       "    <tr>\n",
       "      <th>50%</th>\n",
       "      <td>77.000000</td>\n",
       "      <td>15.000000</td>\n",
       "      <td>0.000000</td>\n",
       "      <td>1470.000000</td>\n",
       "      <td>0.729000</td>\n",
       "      <td>1.194000</td>\n",
       "      <td>0.000000</td>\n",
       "      <td>1.000000</td>\n",
       "      <td>0.000000</td>\n",
       "    </tr>\n",
       "    <tr>\n",
       "      <th>75%</th>\n",
       "      <td>82.000000</td>\n",
       "      <td>16.000000</td>\n",
       "      <td>0.500000</td>\n",
       "      <td>1597.000000</td>\n",
       "      <td>0.756000</td>\n",
       "      <td>1.293000</td>\n",
       "      <td>1.000000</td>\n",
       "      <td>1.000000</td>\n",
       "      <td>1.000000</td>\n",
       "    </tr>\n",
       "    <tr>\n",
       "      <th>max</th>\n",
       "      <td>98.000000</td>\n",
       "      <td>23.000000</td>\n",
       "      <td>2.000000</td>\n",
       "      <td>2004.000000</td>\n",
       "      <td>0.837000</td>\n",
       "      <td>1.587000</td>\n",
       "      <td>1.000000</td>\n",
       "      <td>1.000000</td>\n",
       "      <td>1.000000</td>\n",
       "    </tr>\n",
       "  </tbody>\n",
       "</table>\n",
       "</div>"
      ],
      "text/plain": [
       "              Age        EDUC         CDR         eTIV        nWBV  \\\n",
       "count  373.000000  373.000000  373.000000   373.000000  373.000000   \n",
       "mean    77.013405   14.597855    0.290885  1488.128686    0.729568   \n",
       "std      7.640957    2.876339    0.374557   176.139286    0.037135   \n",
       "min     60.000000    6.000000    0.000000  1106.000000    0.644000   \n",
       "25%     71.000000   12.000000    0.000000  1357.000000    0.700000   \n",
       "50%     77.000000   15.000000    0.000000  1470.000000    0.729000   \n",
       "75%     82.000000   16.000000    0.500000  1597.000000    0.756000   \n",
       "max     98.000000   23.000000    2.000000  2004.000000    0.837000   \n",
       "\n",
       "              ASF    Demented  Nondemented           M  \n",
       "count  373.000000  373.000000   373.000000  373.000000  \n",
       "mean     1.195461    0.391421     0.509383    0.428954  \n",
       "std      0.138092    0.488724     0.500583    0.495592  \n",
       "min      0.876000    0.000000     0.000000    0.000000  \n",
       "25%      1.099000    0.000000     0.000000    0.000000  \n",
       "50%      1.194000    0.000000     1.000000    0.000000  \n",
       "75%      1.293000    1.000000     1.000000    1.000000  \n",
       "max      1.587000    1.000000     1.000000    1.000000  "
      ]
     },
     "execution_count": 67,
     "metadata": {},
     "output_type": "execute_result"
    }
   ],
   "source": [
    "veri.describe()"
   ]
  },
  {
   "cell_type": "code",
   "execution_count": 68,
   "id": "ae695a53",
   "metadata": {},
   "outputs": [
    {
     "data": {
      "text/html": [
       "<div>\n",
       "<style scoped>\n",
       "    .dataframe tbody tr th:only-of-type {\n",
       "        vertical-align: middle;\n",
       "    }\n",
       "\n",
       "    .dataframe tbody tr th {\n",
       "        vertical-align: top;\n",
       "    }\n",
       "\n",
       "    .dataframe thead th {\n",
       "        text-align: right;\n",
       "    }\n",
       "</style>\n",
       "<table border=\"1\" class=\"dataframe\">\n",
       "  <thead>\n",
       "    <tr style=\"text-align: right;\">\n",
       "      <th></th>\n",
       "      <th>Age</th>\n",
       "      <th>EDUC</th>\n",
       "      <th>CDR</th>\n",
       "      <th>eTIV</th>\n",
       "      <th>nWBV</th>\n",
       "      <th>ASF</th>\n",
       "      <th>Demented</th>\n",
       "      <th>Nondemented</th>\n",
       "      <th>M</th>\n",
       "    </tr>\n",
       "  </thead>\n",
       "  <tbody>\n",
       "    <tr>\n",
       "      <th>0</th>\n",
       "      <td>73.0</td>\n",
       "      <td>12.0</td>\n",
       "      <td>0.0</td>\n",
       "      <td>1475</td>\n",
       "      <td>0.696</td>\n",
       "      <td>1.184</td>\n",
       "      <td>0.0</td>\n",
       "      <td>1.0</td>\n",
       "      <td>0.0</td>\n",
       "    </tr>\n",
       "    <tr>\n",
       "      <th>1</th>\n",
       "      <td>NaN</td>\n",
       "      <td>NaN</td>\n",
       "      <td>NaN</td>\n",
       "      <td>1483</td>\n",
       "      <td>NaN</td>\n",
       "      <td>1.190</td>\n",
       "      <td>NaN</td>\n",
       "      <td>NaN</td>\n",
       "      <td>NaN</td>\n",
       "    </tr>\n",
       "  </tbody>\n",
       "</table>\n",
       "</div>"
      ],
      "text/plain": [
       "    Age  EDUC  CDR  eTIV   nWBV    ASF  Demented  Nondemented    M\n",
       "0  73.0  12.0  0.0  1475  0.696  1.184       0.0          1.0  0.0\n",
       "1   NaN   NaN  NaN  1483    NaN  1.190       NaN          NaN  NaN"
      ]
     },
     "execution_count": 68,
     "metadata": {},
     "output_type": "execute_result"
    }
   ],
   "source": [
    "veri.mode()"
   ]
  },
  {
   "cell_type": "code",
   "execution_count": 69,
   "id": "711e27a4",
   "metadata": {},
   "outputs": [
    {
     "data": {
      "text/plain": [
       "Age              77.000\n",
       "EDUC             15.000\n",
       "CDR               0.000\n",
       "eTIV           1470.000\n",
       "nWBV              0.729\n",
       "ASF               1.194\n",
       "Demented          0.000\n",
       "Nondemented       1.000\n",
       "M                 0.000\n",
       "dtype: float64"
      ]
     },
     "execution_count": 69,
     "metadata": {},
     "output_type": "execute_result"
    }
   ],
   "source": [
    "veri.median()"
   ]
  },
  {
   "cell_type": "code",
   "execution_count": 70,
   "id": "7f634ebe",
   "metadata": {},
   "outputs": [
    {
     "data": {
      "text/plain": [
       "Age              77.013405\n",
       "EDUC             14.597855\n",
       "CDR               0.290885\n",
       "eTIV           1488.128686\n",
       "nWBV              0.729568\n",
       "ASF               1.195461\n",
       "Demented          0.391421\n",
       "Nondemented       0.509383\n",
       "M                 0.428954\n",
       "dtype: float64"
      ]
     },
     "execution_count": 70,
     "metadata": {},
     "output_type": "execute_result"
    }
   ],
   "source": [
    "veri.mean(axis=0,skipna=True)"
   ]
  },
  {
   "cell_type": "code",
   "execution_count": 71,
   "id": "16b138e9",
   "metadata": {},
   "outputs": [
    {
     "data": {
      "text/plain": [
       "Age              7.640957\n",
       "EDUC             2.876339\n",
       "CDR              0.374557\n",
       "eTIV           176.139286\n",
       "nWBV             0.037135\n",
       "ASF              0.138092\n",
       "Demented         0.488724\n",
       "Nondemented      0.500583\n",
       "M                0.495592\n",
       "dtype: float64"
      ]
     },
     "execution_count": 71,
     "metadata": {},
     "output_type": "execute_result"
    }
   ],
   "source": [
    "veri.std()"
   ]
  },
  {
   "cell_type": "code",
   "execution_count": 72,
   "id": "03d8158e",
   "metadata": {},
   "outputs": [
    {
     "data": {
      "text/html": [
       "<div>\n",
       "<style scoped>\n",
       "    .dataframe tbody tr th:only-of-type {\n",
       "        vertical-align: middle;\n",
       "    }\n",
       "\n",
       "    .dataframe tbody tr th {\n",
       "        vertical-align: top;\n",
       "    }\n",
       "\n",
       "    .dataframe thead th {\n",
       "        text-align: right;\n",
       "    }\n",
       "</style>\n",
       "<table border=\"1\" class=\"dataframe\">\n",
       "  <thead>\n",
       "    <tr style=\"text-align: right;\">\n",
       "      <th></th>\n",
       "      <th>Age</th>\n",
       "      <th>EDUC</th>\n",
       "      <th>CDR</th>\n",
       "      <th>eTIV</th>\n",
       "      <th>nWBV</th>\n",
       "      <th>ASF</th>\n",
       "      <th>Demented</th>\n",
       "      <th>Nondemented</th>\n",
       "      <th>M</th>\n",
       "    </tr>\n",
       "  </thead>\n",
       "  <tbody>\n",
       "    <tr>\n",
       "      <th>Age</th>\n",
       "      <td>58.384228</td>\n",
       "      <td>-0.612874</td>\n",
       "      <td>-0.075146</td>\n",
       "      <td>56.995582</td>\n",
       "      <td>-0.147083</td>\n",
       "      <td>-0.037001</td>\n",
       "      <td>-0.295584</td>\n",
       "      <td>0.022723</td>\n",
       "      <td>-0.142862</td>\n",
       "    </tr>\n",
       "    <tr>\n",
       "      <th>EDUC</th>\n",
       "      <td>-0.612874</td>\n",
       "      <td>8.273329</td>\n",
       "      <td>-0.164966</td>\n",
       "      <td>130.213180</td>\n",
       "      <td>-0.001303</td>\n",
       "      <td>-0.096024</td>\n",
       "      <td>-0.363674</td>\n",
       "      <td>0.277977</td>\n",
       "      <td>0.127267</td>\n",
       "    </tr>\n",
       "    <tr>\n",
       "      <th>CDR</th>\n",
       "      <td>-0.075146</td>\n",
       "      <td>-0.164966</td>\n",
       "      <td>0.140293</td>\n",
       "      <td>1.505477</td>\n",
       "      <td>-0.004796</td>\n",
       "      <td>-0.001518</td>\n",
       "      <td>0.149276</td>\n",
       "      <td>-0.145882</td>\n",
       "      <td>0.037523</td>\n",
       "    </tr>\n",
       "    <tr>\n",
       "      <th>eTIV</th>\n",
       "      <td>56.995582</td>\n",
       "      <td>130.213180</td>\n",
       "      <td>1.505477</td>\n",
       "      <td>31025.047911</td>\n",
       "      <td>-1.374393</td>\n",
       "      <td>-24.052858</td>\n",
       "      <td>-0.894592</td>\n",
       "      <td>3.764918</td>\n",
       "      <td>49.979597</td>\n",
       "    </tr>\n",
       "    <tr>\n",
       "      <th>nWBV</th>\n",
       "      <td>-0.147083</td>\n",
       "      <td>-0.001303</td>\n",
       "      <td>-0.004796</td>\n",
       "      <td>-1.374393</td>\n",
       "      <td>0.001379</td>\n",
       "      <td>0.001095</td>\n",
       "      <td>-0.005207</td>\n",
       "      <td>0.005788</td>\n",
       "      <td>-0.004594</td>\n",
       "    </tr>\n",
       "    <tr>\n",
       "      <th>ASF</th>\n",
       "      <td>-0.037001</td>\n",
       "      <td>-0.096024</td>\n",
       "      <td>-0.001518</td>\n",
       "      <td>-24.052858</td>\n",
       "      <td>0.001095</td>\n",
       "      <td>0.019069</td>\n",
       "      <td>0.000561</td>\n",
       "      <td>-0.002246</td>\n",
       "      <td>-0.038438</td>\n",
       "    </tr>\n",
       "    <tr>\n",
       "      <th>Demented</th>\n",
       "      <td>-0.295584</td>\n",
       "      <td>-0.363674</td>\n",
       "      <td>0.149276</td>\n",
       "      <td>-0.894592</td>\n",
       "      <td>-0.005207</td>\n",
       "      <td>0.000561</td>\n",
       "      <td>0.238851</td>\n",
       "      <td>-0.199919</td>\n",
       "      <td>0.062830</td>\n",
       "    </tr>\n",
       "    <tr>\n",
       "      <th>Nondemented</th>\n",
       "      <td>0.022723</td>\n",
       "      <td>0.277977</td>\n",
       "      <td>-0.145882</td>\n",
       "      <td>3.764918</td>\n",
       "      <td>0.005788</td>\n",
       "      <td>-0.002246</td>\n",
       "      <td>-0.199919</td>\n",
       "      <td>0.250584</td>\n",
       "      <td>-0.055111</td>\n",
       "    </tr>\n",
       "    <tr>\n",
       "      <th>M</th>\n",
       "      <td>-0.142862</td>\n",
       "      <td>0.127267</td>\n",
       "      <td>0.037523</td>\n",
       "      <td>49.979597</td>\n",
       "      <td>-0.004594</td>\n",
       "      <td>-0.038438</td>\n",
       "      <td>0.062830</td>\n",
       "      <td>-0.055111</td>\n",
       "      <td>0.245611</td>\n",
       "    </tr>\n",
       "  </tbody>\n",
       "</table>\n",
       "</div>"
      ],
      "text/plain": [
       "                   Age        EDUC       CDR          eTIV      nWBV  \\\n",
       "Age          58.384228   -0.612874 -0.075146     56.995582 -0.147083   \n",
       "EDUC         -0.612874    8.273329 -0.164966    130.213180 -0.001303   \n",
       "CDR          -0.075146   -0.164966  0.140293      1.505477 -0.004796   \n",
       "eTIV         56.995582  130.213180  1.505477  31025.047911 -1.374393   \n",
       "nWBV         -0.147083   -0.001303 -0.004796     -1.374393  0.001379   \n",
       "ASF          -0.037001   -0.096024 -0.001518    -24.052858  0.001095   \n",
       "Demented     -0.295584   -0.363674  0.149276     -0.894592 -0.005207   \n",
       "Nondemented   0.022723    0.277977 -0.145882      3.764918  0.005788   \n",
       "M            -0.142862    0.127267  0.037523     49.979597 -0.004594   \n",
       "\n",
       "                   ASF  Demented  Nondemented          M  \n",
       "Age          -0.037001 -0.295584     0.022723  -0.142862  \n",
       "EDUC         -0.096024 -0.363674     0.277977   0.127267  \n",
       "CDR          -0.001518  0.149276    -0.145882   0.037523  \n",
       "eTIV        -24.052858 -0.894592     3.764918  49.979597  \n",
       "nWBV          0.001095 -0.005207     0.005788  -0.004594  \n",
       "ASF           0.019069  0.000561    -0.002246  -0.038438  \n",
       "Demented      0.000561  0.238851    -0.199919   0.062830  \n",
       "Nondemented  -0.002246 -0.199919     0.250584  -0.055111  \n",
       "M            -0.038438  0.062830    -0.055111   0.245611  "
      ]
     },
     "execution_count": 72,
     "metadata": {},
     "output_type": "execute_result"
    }
   ],
   "source": [
    "#Varyans Hesaplamaları\n",
    "veri.cov() #Kovaryans"
   ]
  },
  {
   "cell_type": "code",
   "execution_count": 73,
   "id": "23a45fed",
   "metadata": {},
   "outputs": [
    {
     "data": {
      "text/html": [
       "<div>\n",
       "<style scoped>\n",
       "    .dataframe tbody tr th:only-of-type {\n",
       "        vertical-align: middle;\n",
       "    }\n",
       "\n",
       "    .dataframe tbody tr th {\n",
       "        vertical-align: top;\n",
       "    }\n",
       "\n",
       "    .dataframe thead th {\n",
       "        text-align: right;\n",
       "    }\n",
       "</style>\n",
       "<table border=\"1\" class=\"dataframe\">\n",
       "  <thead>\n",
       "    <tr style=\"text-align: right;\">\n",
       "      <th></th>\n",
       "      <th>Age</th>\n",
       "      <th>EDUC</th>\n",
       "      <th>CDR</th>\n",
       "      <th>eTIV</th>\n",
       "      <th>nWBV</th>\n",
       "      <th>ASF</th>\n",
       "      <th>Demented</th>\n",
       "      <th>Nondemented</th>\n",
       "      <th>M</th>\n",
       "    </tr>\n",
       "  </thead>\n",
       "  <tbody>\n",
       "    <tr>\n",
       "      <th>Age</th>\n",
       "      <td>1.000000</td>\n",
       "      <td>-0.027886</td>\n",
       "      <td>-0.026257</td>\n",
       "      <td>0.042348</td>\n",
       "      <td>-0.518359</td>\n",
       "      <td>-0.035067</td>\n",
       "      <td>-0.079153</td>\n",
       "      <td>0.005941</td>\n",
       "      <td>-0.037726</td>\n",
       "    </tr>\n",
       "    <tr>\n",
       "      <th>EDUC</th>\n",
       "      <td>-0.027886</td>\n",
       "      <td>1.000000</td>\n",
       "      <td>-0.153121</td>\n",
       "      <td>0.257015</td>\n",
       "      <td>-0.012200</td>\n",
       "      <td>-0.241752</td>\n",
       "      <td>-0.258708</td>\n",
       "      <td>0.193060</td>\n",
       "      <td>0.089279</td>\n",
       "    </tr>\n",
       "    <tr>\n",
       "      <th>CDR</th>\n",
       "      <td>-0.026257</td>\n",
       "      <td>-0.153121</td>\n",
       "      <td>1.000000</td>\n",
       "      <td>0.022819</td>\n",
       "      <td>-0.344819</td>\n",
       "      <td>-0.029340</td>\n",
       "      <td>0.815473</td>\n",
       "      <td>-0.778049</td>\n",
       "      <td>0.202140</td>\n",
       "    </tr>\n",
       "    <tr>\n",
       "      <th>eTIV</th>\n",
       "      <td>0.042348</td>\n",
       "      <td>0.257015</td>\n",
       "      <td>0.022819</td>\n",
       "      <td>1.000000</td>\n",
       "      <td>-0.210122</td>\n",
       "      <td>-0.988877</td>\n",
       "      <td>-0.010392</td>\n",
       "      <td>0.042700</td>\n",
       "      <td>0.572549</td>\n",
       "    </tr>\n",
       "    <tr>\n",
       "      <th>nWBV</th>\n",
       "      <td>-0.518359</td>\n",
       "      <td>-0.012200</td>\n",
       "      <td>-0.344819</td>\n",
       "      <td>-0.210122</td>\n",
       "      <td>1.000000</td>\n",
       "      <td>0.213476</td>\n",
       "      <td>-0.286903</td>\n",
       "      <td>0.311346</td>\n",
       "      <td>-0.249618</td>\n",
       "    </tr>\n",
       "    <tr>\n",
       "      <th>ASF</th>\n",
       "      <td>-0.035067</td>\n",
       "      <td>-0.241752</td>\n",
       "      <td>-0.029340</td>\n",
       "      <td>-0.988877</td>\n",
       "      <td>0.213476</td>\n",
       "      <td>1.000000</td>\n",
       "      <td>0.008312</td>\n",
       "      <td>-0.032495</td>\n",
       "      <td>-0.561647</td>\n",
       "    </tr>\n",
       "    <tr>\n",
       "      <th>Demented</th>\n",
       "      <td>-0.079153</td>\n",
       "      <td>-0.258708</td>\n",
       "      <td>0.815473</td>\n",
       "      <td>-0.010392</td>\n",
       "      <td>-0.286903</td>\n",
       "      <td>0.008312</td>\n",
       "      <td>1.000000</td>\n",
       "      <td>-0.817174</td>\n",
       "      <td>0.259405</td>\n",
       "    </tr>\n",
       "    <tr>\n",
       "      <th>Nondemented</th>\n",
       "      <td>0.005941</td>\n",
       "      <td>0.193060</td>\n",
       "      <td>-0.778049</td>\n",
       "      <td>0.042700</td>\n",
       "      <td>0.311346</td>\n",
       "      <td>-0.032495</td>\n",
       "      <td>-0.817174</td>\n",
       "      <td>1.000000</td>\n",
       "      <td>-0.222146</td>\n",
       "    </tr>\n",
       "    <tr>\n",
       "      <th>M</th>\n",
       "      <td>-0.037726</td>\n",
       "      <td>0.089279</td>\n",
       "      <td>0.202140</td>\n",
       "      <td>0.572549</td>\n",
       "      <td>-0.249618</td>\n",
       "      <td>-0.561647</td>\n",
       "      <td>0.259405</td>\n",
       "      <td>-0.222146</td>\n",
       "      <td>1.000000</td>\n",
       "    </tr>\n",
       "  </tbody>\n",
       "</table>\n",
       "</div>"
      ],
      "text/plain": [
       "                  Age      EDUC       CDR      eTIV      nWBV       ASF  \\\n",
       "Age          1.000000 -0.027886 -0.026257  0.042348 -0.518359 -0.035067   \n",
       "EDUC        -0.027886  1.000000 -0.153121  0.257015 -0.012200 -0.241752   \n",
       "CDR         -0.026257 -0.153121  1.000000  0.022819 -0.344819 -0.029340   \n",
       "eTIV         0.042348  0.257015  0.022819  1.000000 -0.210122 -0.988877   \n",
       "nWBV        -0.518359 -0.012200 -0.344819 -0.210122  1.000000  0.213476   \n",
       "ASF         -0.035067 -0.241752 -0.029340 -0.988877  0.213476  1.000000   \n",
       "Demented    -0.079153 -0.258708  0.815473 -0.010392 -0.286903  0.008312   \n",
       "Nondemented  0.005941  0.193060 -0.778049  0.042700  0.311346 -0.032495   \n",
       "M           -0.037726  0.089279  0.202140  0.572549 -0.249618 -0.561647   \n",
       "\n",
       "             Demented  Nondemented         M  \n",
       "Age         -0.079153     0.005941 -0.037726  \n",
       "EDUC        -0.258708     0.193060  0.089279  \n",
       "CDR          0.815473    -0.778049  0.202140  \n",
       "eTIV        -0.010392     0.042700  0.572549  \n",
       "nWBV        -0.286903     0.311346 -0.249618  \n",
       "ASF          0.008312    -0.032495 -0.561647  \n",
       "Demented     1.000000    -0.817174  0.259405  \n",
       "Nondemented -0.817174     1.000000 -0.222146  \n",
       "M            0.259405    -0.222146  1.000000  "
      ]
     },
     "execution_count": 73,
     "metadata": {},
     "output_type": "execute_result"
    }
   ],
   "source": [
    "veri.corr() #korelasyon"
   ]
  },
  {
   "cell_type": "code",
   "execution_count": 74,
   "id": "514b005e",
   "metadata": {},
   "outputs": [],
   "source": [
    "#Değerlendirme Metrikleri(Evaluation Metrics)"
   ]
  },
  {
   "cell_type": "code",
   "execution_count": 75,
   "id": "29e27e76",
   "metadata": {},
   "outputs": [
    {
     "data": {
      "text/plain": [
       "1.0"
      ]
     },
     "execution_count": 75,
     "metadata": {},
     "output_type": "execute_result"
    }
   ],
   "source": [
    "#Accuracy= Number of correct predictions\\Total number of predictions\n",
    "\n",
    "from sklearn.linear_model import LogisticRegression\n",
    "from sklearn.model_selection import train_test_split\n",
    "\n",
    "x_train,x_test,y_train,y_test = train_test_split(x,y,test_size=0.2, \\\n",
    "                                                 random_state=42)\n",
    "\n",
    "model=LogisticRegression().fit(x_train,y_train)\n",
    "model.score(x_test,y_test)"
   ]
  },
  {
   "cell_type": "code",
   "execution_count": 76,
   "id": "fd7cd740",
   "metadata": {},
   "outputs": [
    {
     "data": {
      "text/plain": [
       "0.5"
      ]
     },
     "execution_count": 76,
     "metadata": {},
     "output_type": "execute_result"
    }
   ],
   "source": [
    "#DummyClassifier on the same dataset:\n",
    "\n",
    "from sklearn.dummy import DummyClassifier\n",
    "\n",
    "dummy = DummyClassifier(strategy='most_frequent',random_state=42)\n",
    "dummy.fit(x_train,y_train)\n",
    "dummy.score(x_test,y_test)"
   ]
  },
  {
   "cell_type": "code",
   "execution_count": 77,
   "id": "90698fc2",
   "metadata": {},
   "outputs": [],
   "source": [
    "from sklearn.datasets import make_classification\n",
    "\n",
    "x,y = make_classification(n_samples=10000, n_classes=2, \\\n",
    "                         weights=[0.95,0.05], random_state=42)"
   ]
  },
  {
   "cell_type": "code",
   "execution_count": 78,
   "id": "d02be573",
   "metadata": {},
   "outputs": [
    {
     "data": {
      "text/plain": [
       "1.0"
      ]
     },
     "execution_count": 78,
     "metadata": {},
     "output_type": "execute_result"
    }
   ],
   "source": [
    "from sklearn.ensemble import RandomForestClassifier\n",
    "model=RandomForestClassifier(random_state=42).fit(x_train,y_train)\n",
    "model.score(x_test,y_test)"
   ]
  },
  {
   "cell_type": "code",
   "execution_count": 79,
   "id": "96515055",
   "metadata": {},
   "outputs": [
    {
     "data": {
      "text/plain": [
       "array([[10,  0],\n",
       "       [ 0, 10]], dtype=int64)"
      ]
     },
     "execution_count": 79,
     "metadata": {},
     "output_type": "execute_result"
    }
   ],
   "source": [
    "from sklearn.metrics import confusion_matrix\n",
    "confusion_matrix(y_test,model.predict(x_test))"
   ]
  },
  {
   "cell_type": "code",
   "execution_count": 80,
   "id": "47e8fafb",
   "metadata": {},
   "outputs": [
    {
     "name": "stdout",
     "output_type": "stream",
     "text": [
      "Requirement already satisfied: mglearn in c:\\programdata\\anaconda3\\lib\\site-packages (0.1.9)\n",
      "Requirement already satisfied: imageio in c:\\programdata\\anaconda3\\lib\\site-packages (from mglearn) (2.9.0)\n",
      "Requirement already satisfied: pandas in c:\\programdata\\anaconda3\\lib\\site-packages (from mglearn) (1.3.4)\n",
      "Requirement already satisfied: cycler in c:\\programdata\\anaconda3\\lib\\site-packages (from mglearn) (0.10.0)\n",
      "Requirement already satisfied: numpy in c:\\programdata\\anaconda3\\lib\\site-packages (from mglearn) (1.20.3)\n",
      "Requirement already satisfied: matplotlib in c:\\programdata\\anaconda3\\lib\\site-packages (from mglearn) (3.4.3)\n",
      "Requirement already satisfied: pillow in c:\\programdata\\anaconda3\\lib\\site-packages (from mglearn) (8.4.0)\n",
      "Requirement already satisfied: joblib in c:\\programdata\\anaconda3\\lib\\site-packages (from mglearn) (1.1.0)\n",
      "Requirement already satisfied: scikit-learn in c:\\programdata\\anaconda3\\lib\\site-packages (from mglearn) (0.24.2)\n",
      "Requirement already satisfied: six in c:\\programdata\\anaconda3\\lib\\site-packages (from cycler->mglearn) (1.16.0)\n",
      "Requirement already satisfied: kiwisolver>=1.0.1 in c:\\programdata\\anaconda3\\lib\\site-packages (from matplotlib->mglearn) (1.3.1)\n",
      "Requirement already satisfied: python-dateutil>=2.7 in c:\\programdata\\anaconda3\\lib\\site-packages (from matplotlib->mglearn) (2.8.2)\n",
      "Requirement already satisfied: pyparsing>=2.2.1 in c:\\programdata\\anaconda3\\lib\\site-packages (from matplotlib->mglearn) (3.0.4)\n",
      "Requirement already satisfied: pytz>=2017.3 in c:\\programdata\\anaconda3\\lib\\site-packages (from pandas->mglearn) (2021.3)\n",
      "Requirement already satisfied: threadpoolctl>=2.0.0 in c:\\programdata\\anaconda3\\lib\\site-packages (from scikit-learn->mglearn) (2.2.0)\n",
      "Requirement already satisfied: scipy>=0.19.1 in c:\\programdata\\anaconda3\\lib\\site-packages (from scikit-learn->mglearn) (1.7.1)\n"
     ]
    }
   ],
   "source": [
    "import sys\n",
    "!{sys.executable} -m pip install mglearn\n",
    "import mglearn"
   ]
  },
  {
   "cell_type": "code",
   "execution_count": 81,
   "id": "729751f3",
   "metadata": {},
   "outputs": [
    {
     "data": {
      "image/png": "[encoded data removed]",
      "text/plain": [
       "<Figure size 432x288 with 1 Axes>"
      ]
     },
     "metadata": {
      "needs_background": "light"
     },
     "output_type": "display_data"
    }
   ],
   "source": [
    "mglearn.plots.plot_binary_confusion_matrix()"
   ]
  },
  {
   "cell_type": "code",
   "execution_count": 82,
   "id": "4bc4a0b3",
   "metadata": {},
   "outputs": [
    {
     "name": "stdout",
     "output_type": "stream",
     "text": [
      "              precision    recall  f1-score   support\n",
      "\n",
      "           0       1.00      1.00      1.00        10\n",
      "           1       1.00      1.00      1.00        10\n",
      "\n",
      "    accuracy                           1.00        20\n",
      "   macro avg       1.00      1.00      1.00        20\n",
      "weighted avg       1.00      1.00      1.00        20\n",
      "\n"
     ]
    }
   ],
   "source": [
    "from sklearn.metrics import classification_report\n",
    "print(classification_report(y_test,model.predict(x_test)))"
   ]
  },
  {
   "cell_type": "code",
   "execution_count": 83,
   "id": "698b6a71",
   "metadata": {},
   "outputs": [
    {
     "name": "stdout",
     "output_type": "stream",
     "text": [
      "Sensitivity:  0.8297872340425532\n"
     ]
    }
   ],
   "source": [
    "#Sensitivity = TP/TP+FN\n",
    "\n",
    "print('Sensitivity: ', 39/(39+8))"
   ]
  },
  {
   "cell_type": "code",
   "execution_count": 84,
   "id": "f62dcb9c",
   "metadata": {},
   "outputs": [
    {
     "name": "stdout",
     "output_type": "stream",
     "text": [
      "Specificity:  0.9950372208436724\n"
     ]
    }
   ],
   "source": [
    "#Specificty = TN/(FP+TN)\n",
    "\n",
    "print('Specificity: ',401/(2+401))"
   ]
  },
  {
   "cell_type": "code",
   "execution_count": 85,
   "id": "23e8bcae",
   "metadata": {},
   "outputs": [
    {
     "ename": "NameError",
     "evalue": "name 'recall_score' is not defined",
     "output_type": "error",
     "traceback": [
      "\u001b[1;31m---------------------------------------------------------------------------\u001b[0m",
      "\u001b[1;31mNameError\u001b[0m                                 Traceback (most recent call last)",
      "\u001b[1;32m~\\AppData\\Local\\Temp/ipykernel_17492/2223096111.py\u001b[0m in \u001b[0;36m<module>\u001b[1;34m\u001b[0m\n\u001b[0;32m      7\u001b[0m                scoring='recall',n_jobs=-1)\n\u001b[0;32m      8\u001b[0m \u001b[0mgs\u001b[0m\u001b[1;33m.\u001b[0m\u001b[0mfit\u001b[0m\u001b[1;33m(\u001b[0m\u001b[0mx_train\u001b[0m\u001b[1;33m,\u001b[0m\u001b[0my_train\u001b[0m\u001b[1;33m)\u001b[0m\u001b[1;33m\u001b[0m\u001b[1;33m\u001b[0m\u001b[0m\n\u001b[1;32m----> 9\u001b[1;33m \u001b[0mrecall_score\u001b[0m\u001b[1;33m(\u001b[0m\u001b[0my_test\u001b[0m\u001b[1;33m,\u001b[0m\u001b[0mgs\u001b[0m\u001b[1;33m.\u001b[0m\u001b[0mbest_estimator_\u001b[0m\u001b[1;33m.\u001b[0m\u001b[0mpredict\u001b[0m\u001b[1;33m(\u001b[0m\u001b[0mx_test\u001b[0m\u001b[1;33m)\u001b[0m\u001b[1;33m)\u001b[0m\u001b[1;33m\u001b[0m\u001b[1;33m\u001b[0m\u001b[0m\n\u001b[0m",
      "\u001b[1;31mNameError\u001b[0m: name 'recall_score' is not defined"
     ]
    }
   ],
   "source": [
    "from sklearn.model_selection import GridSearchCV\n",
    "param_grid={\n",
    "    'n_estimators':[10,200],\n",
    "    'max_features':['auto','sqrt','log2',0.5],\n",
    "}\n",
    "gs=GridSearchCV(estimator=model, param_grid=param_grid, \\\n",
    "               scoring='recall',n_jobs=-1)\n",
    "gs.fit(x_train,y_train)\n",
    "recall_score(y_test,gs.best_estimator_.predict(x_test))"
   ]
  },
  {
   "cell_type": "code",
   "execution_count": null,
   "id": "35c5c49f",
   "metadata": {},
   "outputs": [],
   "source": [
    "#Değerlendirme Metrikleri(Evaluation Metrics)- NAIVE BAYES"
   ]
  },
  {
   "cell_type": "code",
   "execution_count": null,
   "id": "d15dba5b",
   "metadata": {},
   "outputs": [],
   "source": [
    "#Accuracy = Number of correct predictions\\Total number of predictions\n",
    "\n",
    "from sklearn.naive_bayes import GaussianNB\n",
    "from sklearn.model_selection import train_test_split\n",
    "\n",
    "x_train,x_test,y_train,y_test = train_test_split(x,y,test_size=0.2, \\\n",
    "                                                 random_state=42)\n",
    "\n",
    "model=GaussianNB().fit(x_train,y_train)\n",
    "model.score(x_test,y_test)"
   ]
  },
  {
   "cell_type": "code",
   "execution_count": null,
   "id": "c8397830",
   "metadata": {},
   "outputs": [],
   "source": [
    "#DummyClassifier on the same dataset:\n",
    "\n",
    "from sklearn.dummy import DummyClassifier\n",
    "\n",
    "dummy = DummyClassifier(strategy='most_frequent',random_state=42)\n",
    "dummy.fit(x_train,y_train)\n",
    "dummy.score(x_test,y_test)"
   ]
  },
  {
   "cell_type": "code",
   "execution_count": null,
   "id": "ad486ccc",
   "metadata": {},
   "outputs": [],
   "source": [
    "from sklearn.datasets import make_classification\n",
    "\n",
    "x,y = make_classification(n_samples=10000, n_classes=2, \\\n",
    "                         weights=[0.95,0.05], random_state=42)"
   ]
  },
  {
   "cell_type": "code",
   "execution_count": null,
   "id": "c33cd853",
   "metadata": {},
   "outputs": [],
   "source": [
    "from sklearn.ensemble import RandomForestClassifier\n",
    "model=RandomForestClassifier(random_state=42).fit(x_train,y_train)\n",
    "model.score(x_test,y_test)"
   ]
  },
  {
   "cell_type": "code",
   "execution_count": null,
   "id": "a5c5bbcd",
   "metadata": {},
   "outputs": [],
   "source": [
    "from sklearn.metrics import confusion_matrix\n",
    "confusion_matrix(y_test,model.predict(x_test))"
   ]
  },
  {
   "cell_type": "code",
   "execution_count": null,
   "id": "5f972283",
   "metadata": {},
   "outputs": [],
   "source": [
    "import sys\n",
    "!{sys.executable} -m pip install mglearn\n",
    "import mglearn"
   ]
  },
  {
   "cell_type": "code",
   "execution_count": null,
   "id": "97c70e68",
   "metadata": {},
   "outputs": [],
   "source": [
    "mglearn.plots.plot_binary_confusion_matrix() \n",
    "#confusion_matrix değerleri bir önceki kod çıktısında mevcuttur.bu değerler bu şekildeki ifadelere karşılık gelir.Bunları diğer metrik türlerini hesaplamada kullanacağız"
   ]
  },
  {
   "cell_type": "code",
   "execution_count": null,
   "id": "b3890fd3",
   "metadata": {},
   "outputs": [],
   "source": [
    "from sklearn.metrics import classification_report\n",
    "print(classification_report(y_test,model.predict(x_test)))"
   ]
  },
  {
   "cell_type": "code",
   "execution_count": null,
   "id": "7407f7e5",
   "metadata": {},
   "outputs": [],
   "source": [
    "#Sensitivity = TP/TP+FN\n",
    "\n",
    "print('Sensitivity: ', 52/(52+64))"
   ]
  },
  {
   "cell_type": "code",
   "execution_count": null,
   "id": "5b1cf87b",
   "metadata": {},
   "outputs": [],
   "source": [
    "#Specificty = TN/(FP+TN)\n",
    "\n",
    "print('Specificity: ',1876/(8+1876))"
   ]
  },
  {
   "cell_type": "code",
   "execution_count": null,
   "id": "f237c558",
   "metadata": {},
   "outputs": [],
   "source": [
    "from sklearn.model_selection import GridSearchCV\n",
    "param_grid={\n",
    "    'n_estimators':[10,200],\n",
    "    'max_features':['auto','sqrt','log2',0.5],\n",
    "}\n",
    "gs=GridSearchCV(estimator=model, param_grid=param_grid, \\\n",
    "               scoring='recall',n_jobs=-1)\n",
    "gs.fit(x_train,y_train)\n",
    "recall_score(y_test,gs.best_estimator_.predict(x_test))"
   ]
  },
  {
   "cell_type": "code",
   "execution_count": null,
   "id": "aeffe277",
   "metadata": {},
   "outputs": [],
   "source": []
  },
  {
   "cell_type": "code",
   "execution_count": null,
   "id": "175d38b4",
   "metadata": {},
   "outputs": [],
   "source": []
  },
  {
   "cell_type": "code",
   "execution_count": null,
   "id": "bb3887cb",
   "metadata": {},
   "outputs": [],
   "source": []
  },
  {
   "cell_type": "code",
   "execution_count": null,
   "id": "6e7aca63",
   "metadata": {},
   "outputs": [],
   "source": []
  },
  {
   "cell_type": "code",
   "execution_count": null,
   "id": "a3db9261",
   "metadata": {},
   "outputs": [],
   "source": []
  }
 ],
 "metadata": {
  "kernelspec": {
   "display_name": "Python 3 (ipykernel)",
   "language": "python",
   "name": "python3"
  },
  "language_info": {
   "codemirror_mode": {
    "name": "ipython",
    "version": 3
   },
   "file_extension": ".py",
   "mimetype": "text/x-python",
   "name": "python",
   "nbconvert_exporter": "python",
   "pygments_lexer": "ipython3",
   "version": "3.9.7"
  }
 },
 "nbformat": 4,
 "nbformat_minor": 5
}
